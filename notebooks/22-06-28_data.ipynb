{
 "cells": [
  {
   "cell_type": "code",
   "execution_count": 3,
   "id": "118270f0-d641-4f13-b790-2f38727e0818",
   "metadata": {},
   "outputs": [],
   "source": [
    "import pandas as pad\n",
    "import geopandas as gpd\n",
    "import osmnx as ox\n",
    "import matplotlib.pyplot as plt"
   ]
  },
  {
   "cell_type": "markdown",
   "id": "a0fd393c-5197-4c34-bbca-6a839906ba48",
   "metadata": {},
   "source": [
    "# Loading Datasets"
   ]
  },
  {
   "cell_type": "markdown",
   "id": "a498e00d-c999-444e-850a-99d6576664c3",
   "metadata": {},
   "source": [
    "## 1. GHSL Urban Centre Database"
   ]
  },
  {
   "cell_type": "code",
   "execution_count": null,
   "id": "b26edbbb-76d1-4f2e-8c83-b1f0fcfdca69",
   "metadata": {},
   "outputs": [],
   "source": []
  },
  {
   "cell_type": "markdown",
   "id": "b559541c-1d1d-4e3c-96e5-ce79cde4323d",
   "metadata": {},
   "source": [
    "## 2. Degree of Urbanization Layer"
   ]
  },
  {
   "cell_type": "code",
   "execution_count": null,
   "id": "82baa344-8253-4411-8745-7a2964f321e5",
   "metadata": {},
   "outputs": [],
   "source": []
  }
 ],
 "metadata": {
  "kernelspec": {
   "display_name": "Python 3 (ipykernel)",
   "language": "python",
   "name": "python3"
  },
  "language_info": {
   "codemirror_mode": {
    "name": "ipython",
    "version": 3
   },
   "file_extension": ".py",
   "mimetype": "text/x-python",
   "name": "python",
   "nbconvert_exporter": "python",
   "pygments_lexer": "ipython3",
   "version": "3.10.5"
  }
 },
 "nbformat": 4,
 "nbformat_minor": 5
}
